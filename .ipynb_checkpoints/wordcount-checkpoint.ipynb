{
 "cells": [
  {
   "cell_type": "raw",
   "id": "41e736b0-766a-4343-b268-a5c056e9fcaf",
   "metadata": {},
   "source": [
    "# Source code for the 'MapReduce and Word Count' Exercise in\n",
    "# Data Analytics with Spark Using Python\n",
    "# by Jeffrey Aven\n",
    "\n",
    "import sys, re\n",
    "from pyspark import SparkConf, SparkContext\n",
    "conf = SparkConf().setAppName('Word Counts')\n",
    "sc = SparkContext(conf=conf)\n",
    "\n",
    "# check command line arguments\n",
    "if (len(sys.argv) != 3):\n",
    "\tprint(\"\"\"\\\n",
    "This program will count occurances of each word in a document or documents\n",
    "and return the counts sorted by the most frequently occuring words\n",
    "\n",
    "Usage:  wordcounts.py <input_file_or_dir> <output_dir>\n",
    "\"\"\")\n",
    "\tsys.exit(0)\n",
    "else:\n",
    "\tinputpath = sys.argv[1]\n",
    "\toutputdir = sys.argv[2]\n",
    "\n",
    "# count and sort word occurances\t\n",
    "wordcounts = sc.textFile(\"file://\" + inputpath) \\\n",
    "\t\t\t   .filter(lambda line: len(line) > 0) \\\n",
    "\t\t\t   .flatMap(lambda line: re.split('\\W+', line)) \\\n",
    "\t\t\t   .filter(lambda word: len(word) > 0) \\\n",
    "\t\t\t   .map(lambda word:(word.lower(),1)) \\\n",
    "\t\t\t   .reduceByKey(lambda v1, v2: v1 + v2) \\\n",
    "\t\t\t   .map(lambda x: (x[1],x[0])) \\\n",
    "\t\t\t   .sortByKey(ascending=False) \\\n",
    "\t\t\t   .persist()\n",
    "wordcounts.saveAsTextFile(\"file://\" + outputdir)\n",
    "top5words = wordcounts.take(5)\n",
    "justwords = []\n",
    "for wordsandcounts in top5words:\n",
    "\tjustwords.append(wordsandcounts[1])\n",
    "print(\"The top five words are : \" + str(justwords))\n",
    "print(\"Check the complete output in \" + outputdir)"
   ]
  },
  {
   "cell_type": "code",
   "execution_count": 1,
   "id": "2b79d192-15a5-4c60-982a-dceaffcc4aaf",
   "metadata": {},
   "outputs": [],
   "source": [
    "import sys, re\n",
    "from pyspark.sql import SparkSession\n",
    "spark_session = SparkSession.builder.master(\"local\").appName(\"pairrdd-op-test1\").getOrCreate()"
   ]
  },
  {
   "cell_type": "code",
   "execution_count": 3,
   "id": "5f7e48fe-721f-42e9-a5a9-14b666dc505a",
   "metadata": {},
   "outputs": [],
   "source": [
    "shakespeare = spark_session.sparkContext.textFile(\"./data/shakespeare.txt\")\n",
    "wordcounts = shakespeare.filter(lambda line: len(line) > 0) \\\n",
    "\t\t\t   .flatMap(lambda line: re.split('\\W+', line)) \\\n",
    "\t\t\t   .filter(lambda word: len(word) > 0) \\\n",
    "\t\t\t   .map(lambda word:(word.lower(),1)) \\\n",
    "\t\t\t   .reduceByKey(lambda v1, v2: v1 + v2) \\\n",
    "\t\t\t   .map(lambda x: (x[1],x[0])) \\\n",
    "\t\t\t   .sortByKey(ascending=False) \\\n",
    "\t\t\t   .persist()"
   ]
  },
  {
   "cell_type": "code",
   "execution_count": 8,
   "id": "7d3a09f0-22de-46ca-b748-2b6d4b3b67ae",
   "metadata": {},
   "outputs": [
    {
     "name": "stdout",
     "output_type": "stream",
     "text": [
      "The top five words are : ['the', 'and', 'i', 'to', 'of']\n"
     ]
    }
   ],
   "source": [
    "top5words = wordcounts.take(5)\n",
    "justwords = []\n",
    "for wordsandcounts in top5words:\n",
    "\tjustwords.append(wordsandcounts[1])\n",
    "print(\"The top five words are : \" + str(justwords))\n"
   ]
  },
  {
   "cell_type": "code",
   "execution_count": null,
   "id": "8fefc0c9-1363-44c2-9410-39c0242d75b3",
   "metadata": {},
   "outputs": [],
   "source": []
  }
 ],
 "metadata": {
  "kernelspec": {
   "display_name": "Python 3 (ipykernel)",
   "language": "python",
   "name": "python3"
  },
  "language_info": {
   "codemirror_mode": {
    "name": "ipython",
    "version": 3
   },
   "file_extension": ".py",
   "mimetype": "text/x-python",
   "name": "python",
   "nbconvert_exporter": "python",
   "pygments_lexer": "ipython3",
   "version": "3.11.5"
  }
 },
 "nbformat": 4,
 "nbformat_minor": 5
}
