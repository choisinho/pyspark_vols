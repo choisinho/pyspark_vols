{
 "cells": [
  {
   "cell_type": "code",
   "execution_count": 14,
   "id": "2fc03ccc-4c2c-4c3a-8598-8de27efebdce",
   "metadata": {},
   "outputs": [],
   "source": [
    "from pyspark.sql import SparkSession\n",
    "spark_session = SparkSession.builder.master(\"local\").appName(\"midterm\").getOrCreate()"
   ]
  },
  {
   "cell_type": "code",
   "execution_count": 26,
   "id": "5f201fa5-6a36-40fa-8fe8-c5fecd71df60",
   "metadata": {},
   "outputs": [
    {
     "data": {
      "text/plain": [
       "'Mezes Park'"
      ]
     },
     "execution_count": 26,
     "metadata": {},
     "output_type": "execute_result"
    }
   ],
   "source": [
    "stations_bd = spark_session.sparkContext.broadcast({'83':'Mezes Park', '84':'Ryland Park'})\n",
    "stations_bd.value[\"83\"]"
   ]
  },
  {
   "cell_type": "code",
   "execution_count": 34,
   "id": "aa9cd674-70f0-45ae-8f35-5836dd97c6aa",
   "metadata": {},
   "outputs": [
    {
     "data": {
      "text/plain": [
       "'Mezes Park'"
      ]
     },
     "execution_count": 34,
     "metadata": {},
     "output_type": "execute_result"
    }
   ],
   "source": [
    "stationsfile = './data/stations.csv'\n",
    "stationsdata = dict(map(lambda x:(x[0], x[1]), map(lambda x: x.split(','), open(stationsfile))))\n",
    "stationsdata\n",
    "stations_bd = spark_session.sparkContext.broadcast(stationsdata)\n",
    "stations_bd.value[\"83\"]"
   ]
  },
  {
   "cell_type": "code",
   "execution_count": 28,
   "id": "c1a0a993-f56e-493a-9498-68c1ee78bfb0",
   "metadata": {},
   "outputs": [],
   "source": [
    "stations_bd.unpersist()"
   ]
  },
  {
   "cell_type": "code",
   "execution_count": 29,
   "id": "a71ac5b8-89af-43ef-bcfc-99eb8927d47e",
   "metadata": {},
   "outputs": [],
   "source": [
    "status = spark_session.sparkContext.textFile(\"./data/status.csv\")\n",
    "stations = spark_session.sparkContext.textFile(\"./data/stations.csv\")"
   ]
  },
  {
   "cell_type": "code",
   "execution_count": 30,
   "id": "283f8cd6-d3cb-4eea-aed7-ab4569acf409",
   "metadata": {},
   "outputs": [
    {
     "data": {
      "text/plain": [
       "907200"
      ]
     },
     "execution_count": 30,
     "metadata": {},
     "output_type": "execute_result"
    }
   ],
   "source": [
    "status1 = status.map(lambda x: x.split(',')).keyBy(lambda x: x[0])\n",
    "stations1 = stations.map(lambda x: x.split(',')).keyBy(lambda x: x[0])\n",
    "status1.join(stations1) \\\n",
    "    .map(lambda x:(x[1][0][3], x[1][1][1], x[1][0][1], x[1][0][2])) \\\n",
    "    .count()"
   ]
  },
  {
   "cell_type": "code",
   "execution_count": 22,
   "id": "6b4db5be-9cd3-4885-b625-542e8f610349",
   "metadata": {},
   "outputs": [
    {
     "data": {
      "text/plain": [
       "907200"
      ]
     },
     "execution_count": 22,
     "metadata": {},
     "output_type": "execute_result"
    }
   ],
   "source": [
    "status1.map(lambda x:(x[1][3], stationsdata[x[0]], x[1][1], x[1][2]))\\\n",
    "    .count()"
   ]
  },
  {
   "cell_type": "code",
   "execution_count": 37,
   "id": "7e50cbe5-7756-4492-9aa7-7f52e94da897",
   "metadata": {},
   "outputs": [
    {
     "data": {
      "text/plain": [
       "'Mezes Park'"
      ]
     },
     "execution_count": 37,
     "metadata": {},
     "output_type": "execute_result"
    }
   ],
   "source": [
    "stations_bd = spark_session.sparkContext.broadcast(stationsdata)\n",
    "stations_bd.value[\"83\"]"
   ]
  },
  {
   "cell_type": "code",
   "execution_count": 39,
   "id": "92f03913-829b-49a6-9b3b-76d74f9decaf",
   "metadata": {},
   "outputs": [
    {
     "data": {
      "text/plain": [
       "907200"
      ]
     },
     "execution_count": 39,
     "metadata": {},
     "output_type": "execute_result"
    }
   ],
   "source": [
    "status1.map(lambda x:(x[1][3], stations_bd.value[x[0]], x[1][1], x[1][2]))\\\n",
    "    .count()"
   ]
  },
  {
   "cell_type": "code",
   "execution_count": 40,
   "id": "d4d06100-0d12-402b-afdd-2509fc4d5541",
   "metadata": {},
   "outputs": [
    {
     "data": {
      "text/plain": [
       "[2, 3, 4, 5, 6]"
      ]
     },
     "execution_count": 40,
     "metadata": {},
     "output_type": "execute_result"
    }
   ],
   "source": [
    "acc=spark_session.sparkContext.accumulator(0)\n",
    "def addone(x):\n",
    "    global acc\n",
    "    acc +=1\n",
    "    return x+1\n",
    "myrdd = spark_session.sparkContext.parallelize([1,2,3,4,5])\n",
    "myrdd.map(lambda x: addone(x)).collect()"
   ]
  },
  {
   "cell_type": "code",
   "execution_count": 41,
   "id": "284fd74f-dcc6-4bce-a34b-f58587ce34ec",
   "metadata": {},
   "outputs": [
    {
     "name": "stdout",
     "output_type": "stream",
     "text": [
      "records processed: 5\n"
     ]
    }
   ],
   "source": [
    "print(\"records processed: \" + str(acc.value))"
   ]
  }
 ],
 "metadata": {
  "kernelspec": {
   "display_name": "Python 3 (ipykernel)",
   "language": "python",
   "name": "python3"
  },
  "language_info": {
   "codemirror_mode": {
    "name": "ipython",
    "version": 3
   },
   "file_extension": ".py",
   "mimetype": "text/x-python",
   "name": "python",
   "nbconvert_exporter": "python",
   "pygments_lexer": "ipython3",
   "version": "3.11.5"
  }
 },
 "nbformat": 4,
 "nbformat_minor": 5
}
