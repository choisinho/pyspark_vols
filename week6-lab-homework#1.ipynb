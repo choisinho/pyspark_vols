{
 "cells": [
  {
   "cell_type": "markdown",
   "id": "6a3ad9e6-7418-4710-af8f-a2f03ddcbf77",
   "metadata": {},
   "source": [
    "## [week6-lab & Homework #1] airpollution1.txt, airpollution2.txt, mart1.txt, mart2.txt 파일에 대해서 아래 질문에 답하시오. \n",
    "\n",
    "1. airpollution1.txt 파일을 읽어서 \"wonju\" 를 제외한 나머지 도시의 날짜와 PM2포함하는 RDD를 생성하고 내용을 출력하는 프로그램을 작성하라.\n",
    "2. airpollution1.txt, airpollution2.txt에 대해서 각 도시의 년월 별 PM25의 평균값을 구하고 출력하는 프로그램을 작성하라.\n",
    "2. airpollution1.txt, airpollution2.txt에 대해서 각 도시별 전체 기간 평균 PM25, PM10 평균값을 구하고 출력하는 프로그램을 작성하라.\n",
    "3. mart.txt를 입력으로 해서 <실행결과>와 같은 내용의 RDD를 생성하는 프로그램을 작성하라. "
   ]
  },
  {
   "cell_type": "raw",
   "id": "9b113334-b144-41d7-9956-d7308ed7cad1",
   "metadata": {},
   "source": [
    "---- airpollution1.txt ----\n",
    "파일설명 : 년월, PM25, PM10, 도시\n",
    "\n",
    "2017.05,5.20,2,chungju\n",
    "2017.06,5.19,5,chungju\n",
    "2017.05,5.20,3,jecheon\n",
    "2017.06,5.19,4,jecheon\n",
    "2017.05,5.20,3,wonju\n",
    "2017.06,5.19,4,wonju\n",
    "------------------\n",
    "\n",
    "---- airpollution2.txt ----\n",
    "파일설명 : 년월, PM25, PM10, 도시\n",
    "\n",
    "2020.05,6.20,4,chungju\n",
    "2020.06,6.21,5,chungju\n",
    "2020.05,7.33,6,jecheon\n",
    "2020.06,8.67,5,jecheon\n",
    "2020.05,3.31,6,wonju\n",
    "2020.06,8.22,5,wonju\n",
    "------------------\n",
    "\n",
    "---- mart1.txt ----\n",
    "1,오렌지,사이다\n",
    "2,우유,오렌지,세척제\n",
    "3,오렌지,세재\n",
    "4,오렌지,세제,사이다\n",
    "1,세척제,사이다\n",
    "5,우유,빵\n",
    "2,기저귀,맥주\n",
    "7,오렌지,빵\n",
    "------------------\n",
    "\n",
    "---- mart2.txt ----\n",
    "1,맥주,사이다\n",
    "3,우유,빵,세재\n",
    "5,세척제,사이다\n",
    "2,기저귀,맥주\n",
    "7,오렌지\n",
    "------------------\n",
    "\n",
    "---- <실행결과> ----\n",
    "('4', ('오렌지,세제,사이다', 3))\n",
    "('1', ('오렌지,사이다,세척제,사이다,맥주,사이다', 6))\n",
    "('5', ('우유,빵,세척제,사이다', 4))\n",
    "('3', ('오렌지,세재,우유,빵,세재', 5))\n",
    "('2', ('우유,오렌지,세척제,기저귀,맥주,기저귀,맥주', 7))\n",
    "('7', ('오렌지,빵,오렌지', 3))\n",
    "------------------"
   ]
  },
  {
   "cell_type": "code",
   "execution_count": null,
   "id": "fa49204e-a598-41fd-8c86-14f424049b09",
   "metadata": {},
   "outputs": [],
   "source": []
  }
 ],
 "metadata": {
  "kernelspec": {
   "display_name": "Python 3 (ipykernel)",
   "language": "python",
   "name": "python3"
  },
  "language_info": {
   "codemirror_mode": {
    "name": "ipython",
    "version": 3
   },
   "file_extension": ".py",
   "mimetype": "text/x-python",
   "name": "python",
   "nbconvert_exporter": "python",
   "pygments_lexer": "ipython3",
   "version": "3.11.5"
  }
 },
 "nbformat": 4,
 "nbformat_minor": 5
}
